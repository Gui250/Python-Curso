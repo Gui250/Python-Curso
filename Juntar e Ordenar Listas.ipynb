{
 "cells": [
  {
   "cell_type": "markdown",
   "id": "bdc58d15",
   "metadata": {},
   "source": [
    "# Juntar Listas, Ordenar e Cuidados Especiais\n",
    "\n",
    "2 formas: \n",
    "<ul> \n",
    " <li> lista1.extend(lista2) </li>\n",
    " <li> lista_nova = lista1 + lista2 </li>\n",
    " </ul>"
   ]
  },
  {
   "cell_type": "code",
   "execution_count": 3,
   "id": "c1939582",
   "metadata": {},
   "outputs": [
    {
     "name": "stdout",
     "output_type": "stream",
     "text": [
      "['apple tv', 'mac', 'iphone x', 'Ipad', 'apple watch', 'airpods', 'iphone 12', 'apple vision pro']\n"
     ]
    }
   ],
   "source": [
    "produtos = ['apple tv', 'mac', 'iphone x', 'Ipad', 'apple watch', 'airpods']\n",
    "novos_produtos = ['iphone 12', 'apple vision pro']\n",
    "produtos.extend(novos_produtos)\n",
    "print(produtos)"
   ]
  },
  {
   "cell_type": "markdown",
   "id": "a62baecf",
   "metadata": {},
   "source": [
    "# Cuidado:\n",
    "<ul>\n",
    "    <li>[1] + [2] não é a mesma coisa que 1 + 2, então cuidado com o formato dos valores na hora de fazer operações\n",
    "</ul>"
   ]
  },
  {
   "cell_type": "code",
   "execution_count": 4,
   "id": "ce49ba48",
   "metadata": {},
   "outputs": [
    {
     "name": "stdout",
     "output_type": "stream",
     "text": [
      "35000\n",
      "[1500, 20000]\n"
     ]
    }
   ],
   "source": [
    "vendas = [1000, 1500, 15000, 20000, 270, 900, 100, 1200]\n",
    "vendas_iphonex = [1500]\n",
    "vendas_iphone11 = [20000]\n",
    "\n",
    "total_iphone = vendas[2] + vendas[3]\n",
    "total_iphone_listas = vendas_iphonex + vendas_iphone11\n",
    "print(total_iphone)\n",
    "print(total_iphone_listas)"
   ]
  },
  {
   "cell_type": "markdown",
   "id": "274b6ac7",
   "metadata": {},
   "source": [
    "# Ordenar Listas\n",
    "lista.sort()"
   ]
  },
  {
   "cell_type": "code",
   "execution_count": null,
   "id": "0a3bfbce",
   "metadata": {},
   "outputs": [
    {
     "name": "stdout",
     "output_type": "stream",
     "text": [
      "['Ipad', 'airpods', 'apple tv', 'apple vision pro', 'apple watch', 'iphone 12', 'iphone x', 'mac']\n"
     ]
    }
   ],
   "source": [
    "produtos.sort(reverse=True) # Vai do Maior para o Menor\n",
    "print(produtos)"
   ]
  }
 ],
 "metadata": {
  "kernelspec": {
   "display_name": "Python 3 (ipykernel)",
   "language": "python",
   "name": "python3"
  },
  "language_info": {
   "codemirror_mode": {
    "name": "ipython",
    "version": 3
   },
   "file_extension": ".py",
   "mimetype": "text/x-python",
   "name": "python",
   "nbconvert_exporter": "python",
   "pygments_lexer": "ipython3",
   "version": "3.12.4"
  }
 },
 "nbformat": 4,
 "nbformat_minor": 5
}
