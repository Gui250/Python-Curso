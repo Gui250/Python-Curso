{
 "cells": [
  {
   "cell_type": "markdown",
   "id": "88314535-28d7-48f9-b584-99ce65cb91fd",
   "metadata": {},
   "source": [
    "# Aplicação de Tupla - Listas de Tupla"
   ]
  },
  {
   "cell_type": "markdown",
   "id": "ed6c1a17-032f-443c-a6d7-e9e83d5701c4",
   "metadata": {},
   "source": [
    "<h3>Estrutura:</h3>\n",
    "<p>Além de casos como o enumerate, em que usamos uma função para transformar itens em tuplas porque isso ajuda nosso código, temos também de listas de tuplas como algo comum dentro do Python </p>"
   ]
  },
  {
   "cell_type": "markdown",
   "id": "708238f7-f563-4725-83a0-e1656c774832",
   "metadata": {},
   "source": [
    "# Exemplo: \n",
    "<p>Digamos que você está analisando as vendas de um Banco de Dados de um ecommerce</p>\n",
    "<p>Em um determinado dia, você extraiu as vendas do banco de dados e elas vieram nesse formato: </p>"
   ]
  },
  {
   "cell_type": "code",
   "execution_count": 5,
   "id": "e77db31a-e73d-420f-b7ce-c9811f18b2ce",
   "metadata": {},
   "outputs": [
    {
     "name": "stdout",
     "output_type": "stream",
     "text": [
      "[('20/08/2020', 'iphone x', 'azul', '128gb', 350, 4000), ('20/08/2020', 'iphone x', 'prata', '128gb', 1500, 4000), ('20/08/2020', 'ipad', 'prata', '256gb', 127, 6000), ('20/08/2020', 'ipad', 'prata', '128gb', 981, 5000), ('21/08/2020', 'iphone x', 'azul', '128gb', 397, 4000), ('21/08/2020', 'iphone x', 'prata', '128gb', 1017, 4000), ('21/08/2020', 'ipad', 'prata', '256gb', 50, 6000), ('21/08/2020', 'ipad', 'prata', '128gb', 4000, 5000)]\n"
     ]
    }
   ],
   "source": [
    "vendas = [\n",
    "    ('20/08/2020', 'iphone x', 'azul', '128gb', 350, 4000),\n",
    "    ('20/08/2020', 'iphone x', 'prata', '128gb', 1500, 4000),\n",
    "    ('20/08/2020', 'ipad', 'prata', '256gb', 127, 6000),\n",
    "    ('20/08/2020', 'ipad', 'prata', '128gb', 981, 5000),\n",
    "    ('21/08/2020', 'iphone x', 'azul', '128gb', 397, 4000),\n",
    "    ('21/08/2020', 'iphone x', 'prata', '128gb', 1017, 4000 ),\n",
    "    ('21/08/2020', 'ipad', 'prata', '256gb', 50, 6000), \n",
    "    ('21/08/2020', 'ipad', 'prata', '128gb', 4000, 5000)\n",
    "]\n",
    "\n",
    "print(vendas)"
   ]
  },
  {
   "cell_type": "markdown",
   "id": "9573e4bc-2b95-4586-858a-0e486c4db47e",
   "metadata": {},
   "source": [
    "<ul>\n",
    "    <li>Qual foi o faturamento de Iphone no dia 20/08/2020?</li>\n",
    "    <li>Qual foi o produto mais vendido (em unidades) no dia 21/08/2020? </li>\n",
    "</ul>"
   ]
  },
  {
   "cell_type": "code",
   "execution_count": 19,
   "id": "512f230c-32bc-4883-b02a-98f7d8f557a6",
   "metadata": {},
   "outputs": [
    {
     "name": "stdout",
     "output_type": "stream",
     "text": [
      "iphone x\n",
      "1400000\n",
      "iphone x\n",
      "7400000\n"
     ]
    }
   ],
   "source": [
    "faturamento = 0\n",
    "for item in vendas: \n",
    "    data, produto, cor, capacidade, unidades, valor_unitario = item \n",
    "    if produto == 'iphone x' and data == '20/08/2020':\n",
    "        print(produto)\n",
    "        faturamento += unidades * valor_unitario\n",
    "        print(faturamento)"
   ]
  },
  {
   "cell_type": "markdown",
   "id": "71d23a0b-b735-4102-bc18-30c86272365b",
   "metadata": {},
   "source": [
    "<ul>\n",
    "    <li>Qual foi o produto mais vendido (em unidades) no dia 21/08/2020? </li>\n",
    "</ul>"
   ]
  },
  {
   "cell_type": "code",
   "execution_count": 23,
   "id": "e43b80a2-7f58-4d0c-bf6d-10eaab144d48",
   "metadata": {},
   "outputs": [
    {
     "name": "stdout",
     "output_type": "stream",
     "text": [
      "Meu produto mais vendido no dia 21/08/2020 foi o ipad com 4000 unidades\n"
     ]
    }
   ],
   "source": [
    "produto_mais_vendido = ''\n",
    "qtde_produto_mais_vendido = 0\n",
    "for item in vendas: \n",
    "    data, produto, cor, capacidade, unidades, valor_unitario = item \n",
    "    if data == '21/08/2020':\n",
    "        if unidades > qtde_produto_mais_vendido: \n",
    "            produto_mais_vendido = produto\n",
    "            qtde_produto_mais_vendido = unidades\n",
    "            \n",
    "print('Meu produto mais vendido no dia 21/08/2020 foi o {} com {} unidades'.format(produto_mais_vendido, qtde_produto_mais_vendido))"
   ]
  },
  {
   "cell_type": "code",
   "execution_count": null,
   "id": "0d09b410-76e2-47d2-9ef8-adf927c02c8d",
   "metadata": {},
   "outputs": [],
   "source": []
  }
 ],
 "metadata": {
  "kernelspec": {
   "display_name": "Python 3 (ipykernel)",
   "language": "python",
   "name": "python3"
  },
  "language_info": {
   "codemirror_mode": {
    "name": "ipython",
    "version": 3
   },
   "file_extension": ".py",
   "mimetype": "text/x-python",
   "name": "python",
   "nbconvert_exporter": "python",
   "pygments_lexer": "ipython3",
   "version": "3.12.4"
  }
 },
 "nbformat": 4,
 "nbformat_minor": 5
}
