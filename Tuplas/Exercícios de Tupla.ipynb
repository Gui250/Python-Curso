{
 "cells": [
  {
   "cell_type": "markdown",
   "metadata": {},
   "source": [
    "# Exercícios\n",
    "\n",
    "São exercícios bem parecidos com os que fizemos com listas. Mas na tupla, podemos não só trabalhar com índices, mas fazer o \"unpacking\" das tuplas, o que pode facilitar nossos códigos.\n",
    "\n",
    "## 1. Análise de Vendas\n",
    "\n",
    "Nesse exercício vamos fazer uma \"análise simples\" de atingimento de Meta.\n",
    "\n",
    "Temos uma lista com os vendedores e os valores de vendas e queremos identificar (printar) quais os vendedores que bateram a meta e qual foi o valor que eles venderam."
   ]
  },
  {
   "cell_type": "code",
   "execution_count": 11,
   "metadata": {},
   "outputs": [
    {
     "name": "stdout",
     "output_type": "stream",
     "text": [
      "O vendedor João bateu a meta de vendas, tendo 15000 unidades vendidas\n",
      "O vendedor Julia bateu a meta de vendas, tendo 27000 unidades vendidas\n",
      "O vendedor Ana bateu a meta de vendas, tendo 10300 unidades vendidas\n"
     ]
    }
   ],
   "source": [
    "meta = 10000\n",
    "vendas = [\n",
    "    ('João', 15000),\n",
    "    ('Julia', 27000),\n",
    "    ('Marcus', 9900),\n",
    "    ('Maria', 3750),\n",
    "    ('Ana', 10300),\n",
    "    ('Alon', 7870),\n",
    "]\n",
    "\n",
    "for item in vendas: \n",
    "    nome_vendedor, valor_em_vendas = item \n",
    "\n",
    "    if valor_em_vendas >= meta: \n",
    "        vendedor_meta = nome_vendedor\n",
    "        valor_meta = valor_em_vendas\n",
    "        print(\"O vendedor {} bateu a meta de vendas, tendo {} unidades vendidas\".format(vendedor_meta, valor_meta))"
   ]
  },
  {
   "cell_type": "markdown",
   "metadata": {},
   "source": [
    "## 2. Comparação com Ano Anterior\n",
    "\n",
    "Digamos que você está analisando as vendas de produtos de um ecommerce e quer identificar quais produtos tiveram no ano de 2020 mais vendas do que no ano de 2019, para reportar isso para a diretoria.\n",
    "\n",
    "Sua resposta pode ser um print de cada produto, qual foi a venda de 2019, a venda de 2020 e o % de crescimento de 2020 para 2019.\n",
    "\n",
    "Lembrando, para calcular o % de crescimento de um produto de um ano para o outro, podemos fazer: (vendas_produto2020/vendas_produto2019 - 1)\n",
    "\n",
    "A lógica da tupla é: (produto, vendas2019, vendas2020)"
   ]
  },
  {
   "cell_type": "code",
   "execution_count": 24,
   "metadata": {},
   "outputs": [
    {
     "name": "stdout",
     "output_type": "stream",
     "text": [
      "O produto iphone em 2019 teve 558147 unidades vendidas, em 2020 teve 951642 unidades vendidas. Seu percentual de crescimento foi de 70.5%%\n",
      "O produto galaxy em 2019 teve 712350 unidades vendidas, em 2020 teve 244295 unidades vendidas. Seu percentual de crescimento foi de 70.5%%\n",
      "O produto ipad em 2019 teve 573823 unidades vendidas, em 2020 teve 26964 unidades vendidas. Seu percentual de crescimento foi de 70.5%%\n",
      "O produto tv em 2019 teve 405252 unidades vendidas, em 2020 teve 787604 unidades vendidas. Seu percentual de crescimento foi de 94.3%%\n",
      "O produto máquina de café em 2019 teve 718654 unidades vendidas, em 2020 teve 867660 unidades vendidas. Seu percentual de crescimento foi de 20.7%%\n",
      "O produto kindle em 2019 teve 531580 unidades vendidas, em 2020 teve 78830 unidades vendidas. Seu percentual de crescimento foi de 20.7%%\n",
      "O produto geladeira em 2019 teve 973139 unidades vendidas, em 2020 teve 710331 unidades vendidas. Seu percentual de crescimento foi de 20.7%%\n",
      "O produto adega em 2019 teve 892292 unidades vendidas, em 2020 teve 646016 unidades vendidas. Seu percentual de crescimento foi de 20.7%%\n",
      "O produto notebook dell em 2019 teve 422760 unidades vendidas, em 2020 teve 694913 unidades vendidas. Seu percentual de crescimento foi de 64.4%%\n",
      "O produto notebook hp em 2019 teve 154753 unidades vendidas, em 2020 teve 539704 unidades vendidas. Seu percentual de crescimento foi de 248.8%%\n",
      "O produto notebook asus em 2019 teve 887061 unidades vendidas, em 2020 teve 324831 unidades vendidas. Seu percentual de crescimento foi de 248.8%%\n",
      "O produto microsoft surface em 2019 teve 438508 unidades vendidas, em 2020 teve 667179 unidades vendidas. Seu percentual de crescimento foi de 52.1%%\n",
      "O produto webcam em 2019 teve 237467 unidades vendidas, em 2020 teve 295633 unidades vendidas. Seu percentual de crescimento foi de 24.5%%\n",
      "O produto caixa de som em 2019 teve 489705 unidades vendidas, em 2020 teve 725316 unidades vendidas. Seu percentual de crescimento foi de 48.1%%\n",
      "O produto microfone em 2019 teve 328311 unidades vendidas, em 2020 teve 644622 unidades vendidas. Seu percentual de crescimento foi de 96.3%%\n",
      "O produto câmera canon em 2019 teve 591120 unidades vendidas, em 2020 teve 994303 unidades vendidas. Seu percentual de crescimento foi de 68.2%%\n"
     ]
    }
   ],
   "source": [
    "vendas_produtos = [('iphone', 558147, 951642), ('galaxy', 712350, 244295), ('ipad', 573823, 26964), ('tv', 405252, 787604), ('máquina de café', 718654, 867660), ('kindle', 531580, 78830), ('geladeira', 973139, 710331), ('adega', 892292, 646016), ('notebook dell', 422760, 694913), ('notebook hp', 154753, 539704), ('notebook asus', 887061, 324831), ('microsoft surface', 438508, 667179), ('webcam', 237467, 295633), ('caixa de som', 489705, 725316), ('microfone', 328311, 644622), ('câmera canon', 591120, 994303)]\n",
    "\n",
    "#seu código aqui\n",
    "\n",
    "for item in vendas_produtos: \n",
    "    produto, vendas_2019, vendas_2020 = item\n",
    "    if vendas_2020 > vendas_2019:\n",
    "        porcentagem_crescimento = vendas_2020 / vendas_2019 - 1\n",
    "    print('O produto {} em 2019 teve {} unidades vendidas, em 2020 teve {} unidades vendidas. Seu percentual de crescimento foi de {:.1%}%'.format(produto, vendas_2019, vendas_2020, porcentagem_crescimento))\n"
   ]
  }
 ],
 "metadata": {
  "kernelspec": {
   "display_name": "Python 3 (ipykernel)",
   "language": "python",
   "name": "python3"
  },
  "language_info": {
   "codemirror_mode": {
    "name": "ipython",
    "version": 3
   },
   "file_extension": ".py",
   "mimetype": "text/x-python",
   "name": "python",
   "nbconvert_exporter": "python",
   "pygments_lexer": "ipython3",
   "version": "3.12.4"
  }
 },
 "nbformat": 4,
 "nbformat_minor": 4
}
