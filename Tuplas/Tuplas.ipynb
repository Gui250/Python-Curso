{
 "cells": [
  {
   "cell_type": "markdown",
   "id": "6a054629-9c70-4edc-aaa7-b60c88577522",
   "metadata": {},
   "source": [
    "# Tuplas\n",
    "<h2>Estrutura:</h2>\n",
    "<p>tupla = (valor, valor, valor,...)</p>\n",
    "\n",
    "<h2>Diferença</h2>\n",
    "<p>Parece uma lista, mas é imutável</p>\n",
    "\n",
    "<h2>Vantagens:</h2>\n",
    "<ul>\n",
    "    <li>Mais eficiente (em termos de perfomance)</li>\n",
    "    <li>Protege a base de dados (por ser imutável)</li>\n",
    "    <li>Muito usado para dados heterogêneos</li>\n",
    "</ul>"
   ]
  },
  {
   "cell_type": "code",
   "execution_count": 2,
   "id": "98ca9bd2-ea1d-4044-99ee-f2aa26288e5c",
   "metadata": {},
   "outputs": [
    {
     "name": "stdout",
     "output_type": "stream",
     "text": [
      "('Lira', '25/08/2020', '15/02/1994', 2000, 'Estagiário')\n"
     ]
    }
   ],
   "source": [
    "vendas = ('Lira', '25/08/2020', '15/02/1994', 2000, 'Estagiário') \n",
    "print(vendas)"
   ]
  },
  {
   "cell_type": "markdown",
   "id": "364e3a36-dcd7-44d5-8f8c-b9a14151e3db",
   "metadata": {},
   "source": [
    "<h1>Acessando o valor de uma tupla</h1>"
   ]
  },
  {
   "cell_type": "code",
   "execution_count": 9,
   "id": "9aad5b90-cc93-4279-ad7a-0a84d20cf1ab",
   "metadata": {},
   "outputs": [
    {
     "name": "stdout",
     "output_type": "stream",
     "text": [
      "Lira\n"
     ]
    }
   ],
   "source": [
    "nome, data_contratacao, data_nascimento, salario, cargo = vendas\n",
    "\n",
    "print(nome)"
   ]
  },
  {
   "cell_type": "markdown",
   "id": "1c68042e-b0de-4fa8-8122-3b0bff9e45aa",
   "metadata": {},
   "source": [
    "<ul>\n",
    "    <li>o enumerate que vinhamos usando até agora, na verdade, cria uma tupla para a gente. Vamos ver na prática</li>\n",
    "</ul>"
   ]
  },
  {
   "cell_type": "code",
   "execution_count": null,
   "id": "ec54f0c8-84cc-4426-8210-21ebd50bd807",
   "metadata": {},
   "outputs": [],
   "source": [
    "vendas = [1000, 2000, 300, 300, 150] \n",
    "funcionarios = ['João', 'Lira', 'Ana', 'Maria', 'Paula']\n",
    "\n",
    "for i, venda in enumerate(vendas): # A função enumerate() em Python é usada para iterar sobre uma sequência (como uma lista, tupla ou string), retornando tanto o índice (posição) quanto o valor do item em cada iteração.\n",
    "    print('{} vendeu {} unidades'.format(funcionarios[i], venda))"
   ]
  }
 ],
 "metadata": {
  "kernelspec": {
   "display_name": "Python 3 (ipykernel)",
   "language": "python",
   "name": "python3"
  },
  "language_info": {
   "codemirror_mode": {
    "name": "ipython",
    "version": 3
   },
   "file_extension": ".py",
   "mimetype": "text/x-python",
   "name": "python",
   "nbconvert_exporter": "python",
   "pygments_lexer": "ipython3",
   "version": "3.12.4"
  }
 },
 "nbformat": 4,
 "nbformat_minor": 5
}
