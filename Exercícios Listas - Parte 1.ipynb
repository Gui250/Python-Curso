{
 "cells": [
  {
   "cell_type": "markdown",
   "metadata": {},
   "source": [
    "# Exercícios\n",
    "\n",
    "## 1. Faturamento do Melhor e do Pior Mês do Ano\n",
    "\n",
    "Qual foi o valor de vendas do melhor mês do Ano?\n",
    "E valor do pior mês do ano?"
   ]
  },
  {
   "cell_type": "code",
   "execution_count": 36,
   "metadata": {},
   "outputs": [
    {
     "name": "stdout",
     "output_type": "stream",
     "text": [
      "O valor de vendas do melhor mês foi de 49051\n",
      "O valor de vendas do pior mês foi de 9650\n"
     ]
    }
   ],
   "source": [
    "meses = ['jan', 'fev', 'mar', 'abr', 'mai', 'jun', 'jul', 'ago', 'set', 'out', 'nov', 'dez']\n",
    "vendas_1sem = [25000, 29000, 22200, 17750, 15870, 19900]\n",
    "vendas_2sem = [19850, 20120, 17540, 15555, 49051, 9650]\n",
    "\n",
    "vendas = vendas_1sem + vendas_2sem # Juntando listas\n",
    "\n",
    "valor_vendas_melhor_mes = max(vendas) # Retornando o maior valor da lista\n",
    "valor_vendas_pior_mes = min(vendas) # Retornando o menor valor da lista\n",
    "\n",
    "\n",
    "print(\"O valor de vendas do melhor mês foi de {}\".format(valor_vendas_melhor_mes))\n",
    "print(\"O valor de vendas do pior mês foi de {}\".format(valor_vendas_pior_mes))"
   ]
  },
  {
   "cell_type": "markdown",
   "metadata": {},
   "source": [
    "## 2. Continuação\n",
    "\n",
    "Agora relacione as duas listas para printar 'O melhor mês do ano foi {} com {} vendas' e o mesmo para o pior mês do ano.\n",
    "\n",
    "Calcule também o faturamento total do Ano e quanto que o melhor mês representou do faturamento total.\n",
    "\n",
    "Obs: Para o faturamento total, pode usar a função sum(lista) que soma todos os itens de uma lista"
   ]
  },
  {
   "cell_type": "code",
   "execution_count": 42,
   "metadata": {},
   "outputs": [
    {
     "name": "stdout",
     "output_type": "stream",
     "text": [
      "O melhor mês foi o de nov com o valor de 49051 feito em vendas. O pior mês foi o de dez com o valor de 9650 feito em vendas\n",
      "O faturamento anual foi de 261486 \n"
     ]
    }
   ],
   "source": [
    "indice_melhor_mes = vendas.index(valor_vendas_melhor_mes)\n",
    "indice_pior_mes = vendas.index(valor_vendas_pior_mes)\n",
    "\n",
    "print('O melhor mês foi o de {} com o valor de {} feito em vendas. O pior mês foi o de {} com o valor de {} feito em vendas'.format(meses[indice_melhor_mes], valor_vendas_melhor_mes, meses[indice_pior_mes], valor_vendas_pior_mes))\n",
    "\n",
    "faturamento_total_ano = sum(vendas)\n",
    "\n",
    "print('O faturamento anual foi de {} '.format(faturamento_total_ano))"
   ]
  },
  {
   "cell_type": "markdown",
   "metadata": {},
   "source": [
    "## 3. Crie uma lista com o top 3 valores de vendas do ano (sem fazer \"no olho\")\n",
    "\n",
    "Dica: o método remove retira um item da lista."
   ]
  },
  {
   "cell_type": "code",
   "execution_count": 44,
   "metadata": {},
   "outputs": [
    {
     "name": "stdout",
     "output_type": "stream",
     "text": [
      "[49051, 29000, 25000]\n"
     ]
    }
   ],
   "source": [
    "top3 = []\n",
    "\n",
    "maior_valor = max(vendas) # Pega o maior valor\n",
    "\n",
    "top3.append(maior_valor) \n",
    "\n",
    "vendas.remove(maior_valor)\n",
    "\n",
    "segundo_maior_valor = max(vendas) # Pega o segundo maior valor\n",
    "\n",
    "top3.append(segundo_maior_valor)\n",
    "\n",
    "vendas.remove(segundo_maior_valor)\n",
    "\n",
    "\n",
    "terceiro_maior_valor = max(vendas) # Pega o terceiro maior valor\n",
    "\n",
    "top3.append(terceiro_maior_valor)\n",
    "\n",
    "vendas.remove(terceiro_maior_valor)\n",
    "\n",
    "print(top3)"
   ]
  }
 ],
 "metadata": {
  "kernelspec": {
   "display_name": "Python 3 (ipykernel)",
   "language": "python",
   "name": "python3"
  },
  "language_info": {
   "codemirror_mode": {
    "name": "ipython",
    "version": 3
   },
   "file_extension": ".py",
   "mimetype": "text/x-python",
   "name": "python",
   "nbconvert_exporter": "python",
   "pygments_lexer": "ipython3",
   "version": "3.12.4"
  }
 },
 "nbformat": 4,
 "nbformat_minor": 4
}
