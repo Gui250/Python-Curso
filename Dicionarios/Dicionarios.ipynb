{
 "cells": [
  {
   "cell_type": "markdown",
   "id": "75c82787-9b15-49e7-bbfe-4f5a801bff98",
   "metadata": {},
   "source": [
    "# Dicionários em Python\n",
    "## Estrutura:\n",
    "dicionario = {chave: valor, chave: valor, chave: valor, chave: valor}\n",
    "\n",
    "## Vantagens e Desvantagens:\n",
    "- Não devem ser usados para pegar itens de uma determinada ordem\n",
    "- Podem ter valores heterogêneos(vários tipos de valores dentro de um mesmo dicionário: inteiros, strings, listas, etc)\n",
    "- Chaves são únicas obrigatoriamente\n",
    "- Mais intuitivos de trabalhar\n"
   ]
  },
  {
   "cell_type": "code",
   "execution_count": 5,
   "id": "b8dc36bb-e949-4cd6-bd55-9afc55e6cfca",
   "metadata": {},
   "outputs": [],
   "source": [
    "mais_vendidos = {'tecnologia': 'iphone', 'refrigeracao': 'ar consul 12000 btu', 'livros': 'o alquimista', 'eletrodoméstico': 'geladeira', 'lazer': 'prancha surf'}\n",
    "vendas_tecnologia = {'iphone': 15000, 'samsung galaxy': 12000, 'tv samsung': 10000, 'ps5': 14300, 'tablet': 1720, 'ipad': 1000, 'tv philco': 2500, 'notebook hp': 1000, 'notebook dell': 17000, 'notebook asus': 2450}"
   ]
  },
  {
   "cell_type": "markdown",
   "id": "6e9c2981-fa95-4a5f-b392-f70fe4f65f9d",
   "metadata": {},
   "source": [
    "- Qual foi o item mais vendido nas categorias 'livros' e 'lazer'?\n",
    "- Quanto foi vendido de 'notebook asus' e 'ipad'? "
   ]
  },
  {
   "cell_type": "code",
   "execution_count": 15,
   "id": "c7f75c82-6811-468e-9d43-5eb8a6ff7b31",
   "metadata": {},
   "outputs": [
    {
     "name": "stdout",
     "output_type": "stream",
     "text": [
      "O livro mais vendido foi o alquimista\n",
      "O produto mais vendido em lazer foi prancha surf\n",
      "Vendemos 1000 Ipads\n"
     ]
    }
   ],
   "source": [
    "# Respondendo com a chave \n",
    "print('O livro mais vendido foi {}'.format(mais_vendidos['livros']))\n",
    "print('O produto mais vendido em lazer foi {}'.format(mais_vendidos['lazer']))\n",
    "\n",
    "# Respondendo com get\n",
    "vendas_tecnologia.get('notebook asus') \n",
    "print('Vendemos {} Ipads'.format(vendas_tecnologia.get('ipad')))"
   ]
  },
  {
   "cell_type": "markdown",
   "id": "9814cd77-6a61-493e-895b-7b07085c9ddf",
   "metadata": {},
   "source": [
    "# Verificar se o item está no dicionário: \n",
    "- if\n",
    "- .get(chave) = None\n",
    "Se tentarmos procurar as vendas de \"copo\" em vendas tecnologia, oque acontece?"
   ]
  },
  {
   "cell_type": "code",
   "execution_count": 18,
   "id": "3ad03993-68bc-42a1-a9a8-e64ef4bad4e7",
   "metadata": {},
   "outputs": [
    {
     "name": "stdout",
     "output_type": "stream",
     "text": [
      "Copo não está dentro da lista de produtos de tecnologia\n"
     ]
    }
   ],
   "source": [
    "if 'copo' in vendas_tecnologia: \n",
    "    print(vendas_tecnologia['copo'])\n",
    "else: \n",
    "    print('Copo não está dentro da lista de produtos de tecnologia')"
   ]
  }
 ],
 "metadata": {
  "kernelspec": {
   "display_name": "Python 3 (ipykernel)",
   "language": "python",
   "name": "python3"
  },
  "language_info": {
   "codemirror_mode": {
    "name": "ipython",
    "version": 3
   },
   "file_extension": ".py",
   "mimetype": "text/x-python",
   "name": "python",
   "nbconvert_exporter": "python",
   "pygments_lexer": "ipython3",
   "version": "3.12.4"
  }
 },
 "nbformat": 4,
 "nbformat_minor": 5
}
