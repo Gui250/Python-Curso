{
 "cells": [
  {
   "cell_type": "markdown",
   "id": "6f0164e5-68a8-4e98-b03f-b6d8c157bfa0",
   "metadata": {},
   "source": [
    "# For em Dicionarios"
   ]
  },
  {
   "cell_type": "markdown",
   "id": "e63164ff-112d-4786-b587-90c38c8bc654",
   "metadata": {},
   "source": [
    "for chave in dicionario: \n",
    "    faca alguma coisa"
   ]
  },
  {
   "cell_type": "code",
   "execution_count": 8,
   "id": "7077f23d-e30d-496b-beaa-683351d53dd3",
   "metadata": {},
   "outputs": [
    {
     "name": "stdout",
     "output_type": "stream",
     "text": [
      "iphone: 15000 unidades\n",
      "samsung galaxy: 12000 unidades\n",
      "tv samsung: 10000 unidades\n",
      "ps5: 14300 unidades\n",
      "tablet: 1720 unidades\n",
      "ipad: 1000 unidades\n",
      "tv philco: 2500 unidades\n",
      "notebook hp: 1000 unidades\n",
      "notebook dell: 17000 unidades\n",
      "notebook asus: 2450 unidades\n"
     ]
    }
   ],
   "source": [
    "vendas_tecnologia = {'iphone': 15000, 'samsung galaxy': 12000, 'tv samsung': 10000, 'ps5': 14300, 'tablet': 1720, 'ipad': 1000, 'tv philco': 2500, 'notebook hp': 1000, 'notebook dell': 17000, 'notebook asus': 2450}\n",
    "\n",
    "# demonstrando o for\n",
    "for chave in vendas_tecnologia: \n",
    "    print('{}: {} unidades'.format(chave, vendas_tecnologia[chave]))"
   ]
  },
  {
   "cell_type": "markdown",
   "id": "fd3cb125-bb31-4a27-86fa-49d792d9bba2",
   "metadata": {},
   "source": [
    "- Qual o total de notebooks vendidos?"
   ]
  },
  {
   "cell_type": "code",
   "execution_count": 10,
   "id": "8572238b-80c4-43df-9eae-8c93575babbe",
   "metadata": {},
   "outputs": [
    {
     "name": "stdout",
     "output_type": "stream",
     "text": [
      "20450\n"
     ]
    }
   ],
   "source": [
    "total_vendidos = 0\n",
    "\n",
    "for chave in vendas_tecnologia: \n",
    "    if 'notebook' in chave: \n",
    "        total_vendidos = total_vendidos + vendas_tecnologia[chave]\n",
    "\n",
    "print(total_vendidos)"
   ]
  }
 ],
 "metadata": {
  "kernelspec": {
   "display_name": "Python 3 (ipykernel)",
   "language": "python",
   "name": "python3"
  },
  "language_info": {
   "codemirror_mode": {
    "name": "ipython",
    "version": 3
   },
   "file_extension": ".py",
   "mimetype": "text/x-python",
   "name": "python",
   "nbconvert_exporter": "python",
   "pygments_lexer": "ipython3",
   "version": "3.12.4"
  }
 },
 "nbformat": 4,
 "nbformat_minor": 5
}
