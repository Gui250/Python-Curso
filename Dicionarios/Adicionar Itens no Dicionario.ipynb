{
 "cells": [
  {
   "cell_type": "markdown",
   "id": "aff913de-7aa2-46da-b1f9-1120d4df01d3",
   "metadata": {},
   "source": [
    "# Adicionar, Remover e Modificar Itens do Dicionário"
   ]
  },
  {
   "cell_type": "markdown",
   "id": "7755f98c-75a6-458e-862b-217b9312b1c5",
   "metadata": {},
   "source": [
    "## Estrutura\n",
    "- Adicionar Itens"
   ]
  },
  {
   "cell_type": "code",
   "execution_count": 22,
   "id": "87e73988-a129-49d8-acac-e6ef5150d605",
   "metadata": {},
   "outputs": [
    {
     "name": "stdout",
     "output_type": "stream",
     "text": [
      "{'janeiro': 10000, 'fevereiro': 120000, 'março': 90000, 'abril': 8800, 'maio': 89000, 'junho': 12000}\n"
     ]
    }
   ],
   "source": [
    "lucro_1tri = {\n",
    "    'janeiro': 10000, \n",
    "    'fevereiro': 120000,\n",
    "    'março': 90000\n",
    "} \n",
    "\n",
    "lucro_2tri = {\n",
    "    'abril': 8800,\n",
    "    'maio': 89000,\n",
    "    'junho': 12000\n",
    "}\n",
    "\n",
    "# Adicionando 1 item \n",
    "lucro_1tri['abril'] = 88000\n",
    "\n",
    "\n",
    "# Adicionando varios itens\n",
    "lucro_1tri.update(lucro_2tri) \n",
    "print(lucro_1tri) \n"
   ]
  },
  {
   "cell_type": "markdown",
   "id": "b22c2b1d-4843-4461-8a2f-a745c90a1672",
   "metadata": {},
   "source": [
    "## Modificando o mes de fevereiro"
   ]
  },
  {
   "cell_type": "code",
   "execution_count": 24,
   "id": "51276155-888c-463e-b6e5-e04183fb95c4",
   "metadata": {},
   "outputs": [
    {
     "name": "stdout",
     "output_type": "stream",
     "text": [
      "{'janeiro': 10000, 'fevereiro': 85000, 'março': 90000, 'abril': 8800, 'maio': 89000, 'junho': 12000}\n"
     ]
    }
   ],
   "source": [
    "lucro_fev = 85000\n",
    "\n",
    "lucro_1tri['fevereiro'] = lucro_fev \n",
    "\n",
    "print(lucro_1tri) "
   ]
  },
  {
   "cell_type": "code",
   "execution_count": 26,
   "id": "8fa80f19-696b-4ab2-b3d9-aa4140f42100",
   "metadata": {},
   "outputs": [
    {
     "name": "stdout",
     "output_type": "stream",
     "text": [
      "{'janeiro': 10000, 'fevereiro': 85000, 'março': 90000, 'abril': 8800, 'maio': 89000}\n",
      "12000\n"
     ]
    }
   ],
   "source": [
    "# removendo o mês de junho \n",
    "lucro_jun = lucro_1tri.pop('junho')\n",
    "print(lucro_1tri) \n",
    "print(lucro_jun) \n",
    "\n"
   ]
  }
 ],
 "metadata": {
  "kernelspec": {
   "display_name": "Python 3 (ipykernel)",
   "language": "python",
   "name": "python3"
  },
  "language_info": {
   "codemirror_mode": {
    "name": "ipython",
    "version": 3
   },
   "file_extension": ".py",
   "mimetype": "text/x-python",
   "name": "python",
   "nbconvert_exporter": "python",
   "pygments_lexer": "ipython3",
   "version": "3.12.4"
  }
 },
 "nbformat": 4,
 "nbformat_minor": 5
}
