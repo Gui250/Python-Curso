{
 "cells": [
  {
   "cell_type": "markdown",
   "id": "eb37ebe1",
   "metadata": {},
   "source": [
    "# Adicionar e Remover Itens da Lista\n",
    "Adicionar: \n",
    "lista.append(item)\n",
    "\n",
    "Remover: \n",
    "itens_removidos = itens.pop(indice)\n",
    "lista.remove(item)\n",
    "\n",
    "Digamos que você está construindo o controle de produtos da apple e a\n",
    "Apple lançou o Iphone 11 e está tirando o Iphone X."
   ]
  },
  {
   "cell_type": "code",
   "execution_count": 8,
   "id": "e8bff870-b713-4ec4-9ce8-65acf40ac30d",
   "metadata": {},
   "outputs": [
    {
     "name": "stdout",
     "output_type": "stream",
     "text": [
      "['apple tv', 'mac', 'iphone x', 'IPad', 'apple watch', 'airpods']\n",
      "['apple tv', 'mac', 'iphone x', 'IPad', 'apple watch', 'airpods', 'iphone 11']\n"
     ]
    }
   ],
   "source": [
    "produtos = ['apple tv', 'mac', 'iphone x', 'IPad', 'apple watch', 'airpods']\n",
    "print(produtos)\n",
    "\n",
    "# Adicionar um item na lista\n",
    "produtos.append('iphone 11')\n",
    "\n",
    "print(produtos)\n",
    "\n",
    "\n",
    "# remover iphone x\n",
    "produto_remover = 'iphone x'\n",
    "if produto_remover in produtos:\n",
    "    produtos.remove(produto_remover)\n",
    "else: \n",
    "    print(\"{} não existe na lista\".format(produto_remover))"
   ]
  },
  {
   "cell_type": "markdown",
   "id": "de845e23",
   "metadata": {},
   "source": [
    "# Existem 2 formas de tratar o erro: \n",
    "1. Criar um if para evitar que ele aconteça\n",
    "2. Esperar que ele possa acontecer e tratar caso o erro aconteça com:"
   ]
  },
  {
   "cell_type": "code",
   "execution_count": 9,
   "id": "ceda785f",
   "metadata": {},
   "outputs": [
    {
     "name": "stdout",
     "output_type": "stream",
     "text": [
      "Iphone x não está na lista\n"
     ]
    }
   ],
   "source": [
    "try:\n",
    "    produtos.remove(\"iphone x\")\n",
    "    print(produtos)\n",
    "except: \n",
    "    print(\"Iphone x não está na lista\")"
   ]
  }
 ],
 "metadata": {
  "kernelspec": {
   "display_name": "base",
   "language": "python",
   "name": "python3"
  },
  "language_info": {
   "codemirror_mode": {
    "name": "ipython",
    "version": 3
   },
   "file_extension": ".py",
   "mimetype": "text/x-python",
   "name": "python",
   "nbconvert_exporter": "python",
   "pygments_lexer": "ipython3",
   "version": "3.12.4"
  }
 },
 "nbformat": 4,
 "nbformat_minor": 5
}
