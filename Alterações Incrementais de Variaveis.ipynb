{
 "cells": [
  {
   "cell_type": "markdown",
   "id": "6f7f8790-c2ba-4862-9c20-aed74a9bb75d",
   "metadata": {},
   "source": [
    "# Alterações \"Incrementais\" de Variáveis\n",
    "<p>Estrutura:</p>\n",
    "<ul>\n",
    "    <li>variavel = variavel + outro_valor</li>\n",
    "</ul>\n",
    "<p>ou então</p>\n",
    "<ul>\n",
    "    <li>variavel += outro_valor</li>\n",
    "</ul>"
   ]
  },
  {
   "cell_type": "code",
   "execution_count": 8,
   "id": "d7295e27-9539-483f-b8ad-f4d5b413d9c6",
   "metadata": {},
   "outputs": [
    {
     "name": "stdout",
     "output_type": "stream",
     "text": [
      "['mac', 'iphone', 'Ipad']\n"
     ]
    }
   ],
   "source": [
    "lista = ['mac', 'iphone']\n",
    "vendas = [100, 200]\n",
    "# Adicionando Ipad na lista\n",
    "lista.append('Ipad')\n",
    "\n",
    "print(lista)"
   ]
  },
  {
   "cell_type": "code",
   "execution_count": 10,
   "id": "084ed56e-cba3-464c-b845-0ddd12d60d95",
   "metadata": {},
   "outputs": [
    {
     "name": "stdout",
     "output_type": "stream",
     "text": [
      "800\n"
     ]
    }
   ],
   "source": [
    "soma_vendas = 300\n",
    "\n",
    "# Adicionando na soma a quantidade de Ipad\n",
    "soma_vendas = soma_vendas + 500\n",
    "print(soma_vendas)"
   ]
  },
  {
   "cell_type": "code",
   "execution_count": 12,
   "id": "a22c290d-5741-4061-bfc0-c578c4caaa65",
   "metadata": {},
   "outputs": [
    {
     "name": "stdout",
     "output_type": "stream",
     "text": [
      "Esse mês vendemos um total de 800 produtos, sendo:\n",
      " 100 unidades de mac\n",
      " 200 unidades de iphone\n",
      "500 unidades de Ipad\n"
     ]
    }
   ],
   "source": [
    "email = 'Esse mês vendemos um total de {} produtos, sendo:\\n {} unidades de {}\\n {} unidades de {}'.format(soma_vendas, vendas[0], lista[0], vendas[1], lista[1])\n",
    "\n",
    "email = email + '\\n{} unidades de Ipad'.format(500)\n",
    "\n",
    "print(email)"
   ]
  },
  {
   "cell_type": "code",
   "execution_count": null,
   "id": "c209cac3-d75d-4376-ba5c-b1aee03f2b8b",
   "metadata": {},
   "outputs": [],
   "source": []
  }
 ],
 "metadata": {
  "kernelspec": {
   "display_name": "Python 3 (ipykernel)",
   "language": "python",
   "name": "python3"
  },
  "language_info": {
   "codemirror_mode": {
    "name": "ipython",
    "version": 3
   },
   "file_extension": ".py",
   "mimetype": "text/x-python",
   "name": "python",
   "nbconvert_exporter": "python",
   "pygments_lexer": "ipython3",
   "version": "3.12.4"
  }
 },
 "nbformat": 4,
 "nbformat_minor": 5
}
