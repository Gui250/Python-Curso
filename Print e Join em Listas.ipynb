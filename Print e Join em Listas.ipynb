{
 "cells": [
  {
   "cell_type": "markdown",
   "id": "9cbe2182-fe99-4a09-abc4-314e058bb1b5",
   "metadata": {},
   "source": [
    "# Print de Listas\n",
    "<p>2 Opções</p>\n",
    "<ul>\n",
    "    <li>print \"normal\"</li>\n",
    "    <li>método join -> texto.join(lista)</li>\n",
    "</ul>"
   ]
  },
  {
   "cell_type": "code",
   "execution_count": 7,
   "id": "180c9a95-57ea-4f94-8f32-f3c5890f5e8d",
   "metadata": {},
   "outputs": [
    {
     "name": "stdout",
     "output_type": "stream",
     "text": [
      "['apple tv', 'mac', 'iphone x', 'iphone 11', 'Ipad', 'apple watch', 'macbook', 'airpods']\n",
      "apple tv\n",
      "mac\n",
      "iphone x\n",
      "iphone 11\n",
      "Ipad\n",
      "apple watch\n",
      "macbook\n",
      "airpods\n"
     ]
    }
   ],
   "source": [
    "produtos = ['apple tv', 'mac', 'iphone x', 'iphone 11', 'Ipad', 'apple watch', 'macbook', 'airpods']\n",
    "print(produtos)\n",
    "\n",
    "print('\\n'.join(produtos)) # Exibindo os dados da lista \\n"
   ]
  },
  {
   "cell_type": "markdown",
   "id": "8aae0db8-8a71-4fa2-99fa-ec402b20b388",
   "metadata": {},
   "source": [
    "<p>Lembrando do método split de strings:</p>\n",
    "<p>lista = texto.split(separador)</p>"
   ]
  },
  {
   "cell_type": "code",
   "execution_count": 10,
   "id": "03ef808d-4727-40c3-9bd9-686d814a981a",
   "metadata": {},
   "outputs": [
    {
     "name": "stdout",
     "output_type": "stream",
     "text": [
      "['apple tv', ' mac', ' iphone x', ' iphone 11', ' Ipad', ' apple watch', ' macbook', ' airpods']\n"
     ]
    }
   ],
   "source": [
    "produtos = 'apple tv, mac, iphone x, iphone 11, Ipad, apple watch, macbook, airpods'\n",
    "lista = produtos.split(', ')\n",
    "\n",
    "print(lista)"
   ]
  },
  {
   "cell_type": "code",
   "execution_count": null,
   "id": "56cd029b-2253-4c96-aaa1-9bebb01ca498",
   "metadata": {},
   "outputs": [],
   "source": []
  }
 ],
 "metadata": {
  "kernelspec": {
   "display_name": "Python 3 (ipykernel)",
   "language": "python",
   "name": "python3"
  },
  "language_info": {
   "codemirror_mode": {
    "name": "ipython",
    "version": 3
   },
   "file_extension": ".py",
   "mimetype": "text/x-python",
   "name": "python",
   "nbconvert_exporter": "python",
   "pygments_lexer": "ipython3",
   "version": "3.12.4"
  }
 },
 "nbformat": 4,
 "nbformat_minor": 5
}
