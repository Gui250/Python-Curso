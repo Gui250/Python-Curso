{
 "cells": [
  {
   "cell_type": "markdown",
   "id": "a517eda1-b48a-4523-b38a-143f6ec0929a",
   "metadata": {},
   "source": [
    "# Listas de Listas\n",
    "## Estrutura\n",
    "<p>Cada item de uma lista pode ser qualquer tipo de variável. Inclusive, uma lista</p>\n",
    "<p>Quando dentro de uma lista temos cada item como sendo outra lista, temos uma \"nested list\", ou seja, uma lista de listas</p>\n",
    "<p>Todas as regras de lista e tudo que vimos até agora funciona exatamente igual, mas vamos ver como isso funciona na prática</p>"
   ]
  },
  {
   "cell_type": "code",
   "execution_count": 2,
   "id": "0deda0cc-37f6-44c6-8fb0-2991877718a2",
   "metadata": {},
   "outputs": [],
   "source": [
    "vendedores = ['Lira', 'João', 'Diego', 'Alon']\n",
    "produtos = ['ipad', 'iphone']\n",
    "vendas = [\n",
    "    [100, 200], \n",
    "    [300, 500],\n",
    "    [50, 1000],\n",
    "    [900, 10]\n",
    "]"
   ]
  },
  {
   "cell_type": "markdown",
   "id": "a558d6e4-393e-4482-bc43-5975f0d5f4c0",
   "metadata": {},
   "source": [
    "<ul>\n",
    "    <li>Quanto João vendeu de Ipad?</li>\n",
    "    <li>Quanto Diego vendeu de Iphone?</li>\n",
    "    <li>Qual o total de vendas de Iphone?</li>\n",
    "</ul>"
   ]
  },
  {
   "cell_type": "code",
   "execution_count": 9,
   "id": "bdf9b1ce-5a26-4fad-9dfc-acbba4299191",
   "metadata": {},
   "outputs": [
    {
     "name": "stdout",
     "output_type": "stream",
     "text": [
      "300\n",
      "1000\n",
      "2210\n"
     ]
    }
   ],
   "source": [
    "vendas_ipad_joao = vendas[1][0]\n",
    "print(vendas_ipad_joao)\n",
    "\n",
    "vendas_iphone_diego = vendas[2][1]\n",
    "print(vendas_iphone_diego)\n",
    "\n",
    "vendas_iphone = vendas[0][1] + vendas[1][1] + vendas[1][1] + vendas[2][1] + vendas[3][1]\n",
    "print(vendas_iphone)"
   ]
  },
  {
   "cell_type": "markdown",
   "id": "6d3ee02a-1749-4842-b5ab-a05840f4e4c2",
   "metadata": {},
   "source": [
    "<ul>\n",
    "    <li>Adicionando um produto novo na listas de listas</li>\n",
    "</ul>"
   ]
  },
  {
   "cell_type": "code",
   "execution_count": 20,
   "id": "08a72190-492d-42cd-a56e-3dd0716d670a",
   "metadata": {},
   "outputs": [
    {
     "name": "stdout",
     "output_type": "stream",
     "text": [
      "[[100, 200, 10, 10, 10, 10], [300, 500, 15], [50, 1000], [900, 10]]\n"
     ]
    }
   ],
   "source": [
    "vendas_mac = [10,15,6,70]\n",
    "\n",
    "vendas[0].append(vendas_mac[0])\n",
    "vendas[1].append(vendas_mac[1])\n",
    "print(vendas)"
   ]
  },
  {
   "cell_type": "code",
   "execution_count": null,
   "id": "5c2422cc-6dd4-4206-a567-5d1042fbcd0c",
   "metadata": {},
   "outputs": [],
   "source": []
  }
 ],
 "metadata": {
  "kernelspec": {
   "display_name": "Python 3 (ipykernel)",
   "language": "python",
   "name": "python3"
  },
  "language_info": {
   "codemirror_mode": {
    "name": "ipython",
    "version": 3
   },
   "file_extension": ".py",
   "mimetype": "text/x-python",
   "name": "python",
   "nbconvert_exporter": "python",
   "pygments_lexer": "ipython3",
   "version": "3.12.4"
  }
 },
 "nbformat": 4,
 "nbformat_minor": 5
}
