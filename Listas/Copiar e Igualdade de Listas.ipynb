{
 "cells": [
  {
   "cell_type": "markdown",
   "id": "63ccc0c0-14c8-417e-8364-baef952a5418",
   "metadata": {},
   "source": [
    "# Copiar e \"Igualdade\" de Listas\n",
    "\n",
    "<p>Estrutura: </p>\n",
    "<ul>\n",
    "    <li>Quando fazemos: </li>\n",
    "    lista2 = lista1\n",
    "    não criamos uma lista nova, mas estamos atribuindo outra variável a mesma lista.\n",
    "    <li>Se quisermos copiar listas devemos fazer</li>\n",
    "    lista2 = lista1.copy() \n",
    "    ou entao\n",
    "    lista2 = lista1[:]\n",
    "</ul>"
   ]
  },
  {
   "cell_type": "code",
   "execution_count": 2,
   "id": "5036fd41-b9c2-4304-81b9-86c34a922677",
   "metadata": {},
   "outputs": [
    {
     "name": "stdout",
     "output_type": "stream",
     "text": [
      "['ipad', 'iphone 11', 'apple tv']\n",
      "['ipad', 'iphone 11', 'apple tv']\n"
     ]
    }
   ],
   "source": [
    "lista = ['ipad', 'iphone x', 'apple tv']\n",
    "lista2 = lista\n",
    "\n",
    "lista[1] = 'iphone 11'\n",
    "\n",
    "print(lista)\n",
    "print(lista2)"
   ]
  },
  {
   "cell_type": "markdown",
   "id": "4e541a1e-3824-482a-9113-43b7f100be26",
   "metadata": {},
   "source": [
    "# Agora Copiando"
   ]
  },
  {
   "cell_type": "code",
   "execution_count": 9,
   "id": "a962af29-569e-4f70-9695-84261048dc76",
   "metadata": {},
   "outputs": [
    {
     "name": "stdout",
     "output_type": "stream",
     "text": [
      "['ipad', 'iphone 11', 'apple tv']\n",
      "['ipad', 'iphone x', 'apple tv']\n"
     ]
    }
   ],
   "source": [
    "lista = ['ipad', 'iphone x', 'apple tv']\n",
    "lista2 = lista.copy() # Copia os itens da lista1\n",
    "\n",
    "lista[1] = 'iphone 11'\n",
    "print(lista)\n",
    "print(lista2)"
   ]
  }
 ],
 "metadata": {
  "kernelspec": {
   "display_name": "Python 3 (ipykernel)",
   "language": "python",
   "name": "python3"
  },
  "language_info": {
   "codemirror_mode": {
    "name": "ipython",
    "version": 3
   },
   "file_extension": ".py",
   "mimetype": "text/x-python",
   "name": "python",
   "nbconvert_exporter": "python",
   "pygments_lexer": "ipython3",
   "version": "3.12.4"
  }
 },
 "nbformat": 4,
 "nbformat_minor": 5
}
