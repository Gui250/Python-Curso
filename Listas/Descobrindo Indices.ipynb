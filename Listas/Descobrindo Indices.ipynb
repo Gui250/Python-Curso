{
 "cells": [
  {
   "cell_type": "code",
   "execution_count": 3,
   "id": "b3873f96-763d-4ff8-b2d6-076309fa4234",
   "metadata": {},
   "outputs": [],
   "source": [
    "produtos = ['tv', 'celular', 'tablet', 'mouse', 'teclado', 'geladeira', 'forno']\n",
    "estoque = [100, 150, 100, 120, 70, 180, 90]"
   ]
  },
  {
   "cell_type": "code",
   "execution_count": 5,
   "id": "b5ef2b72-cbd0-46f2-b30d-4fa91eac7617",
   "metadata": {},
   "outputs": [
    {
     "name": "stdout",
     "output_type": "stream",
     "text": [
      "Quantidade em estoque da geladeira é de: 180 \n"
     ]
    }
   ],
   "source": [
    "i = produtos.index('geladeira')\n",
    "qtd_estoque = estoque[i]\n",
    "\n",
    "print('Quantidade em estoque da geladeira é de: {} '.format(qtd_estoque))"
   ]
  },
  {
   "cell_type": "markdown",
   "id": "9bc7c2e2-395c-44a7-b6f5-9c0a781af11f",
   "metadata": {},
   "source": [
    "<p>\n",
    "    Crie um programa para fazer uma consulta de estoque. O usuário deve inserir o nome do produto e caso ele não exista na lista, ele deve ser avisado. Caso exista, o programa deve dizer a quantidade  \n",
    "</p>"
   ]
  },
  {
   "cell_type": "code",
   "execution_count": null,
   "id": "3206eed6-e268-4cf5-a40a-a2828b5829ec",
   "metadata": {},
   "outputs": [
    {
     "name": "stdout",
     "output_type": "stream",
     "text": [
      "Digite o produto desejado em letras minúsculas:  geladeira\n"
     ]
    },
    {
     "name": "stdout",
     "output_type": "stream",
     "text": [
      "Temos 180 unidades de geladeira\n"
     ]
    }
   ],
   "source": [
    "produto = input('Digite o produto desejado em letras minúsculas: ')\n",
    "if produto in produtos: \n",
    "    i = produtos.index(produto) # o index retorna o índice do elemento\n",
    "    qtd_estoque = estoque[i]\n",
    "    print(\"Temos {} unidades de {}\".format(qtd_estoque, produto))\n",
    "else: \n",
    "    print(\"Não temos esse produto em estoque\")"
   ]
  }
 ],
 "metadata": {
  "kernelspec": {
   "display_name": "Python 3 (ipykernel)",
   "language": "python",
   "name": "python3"
  },
  "language_info": {
   "codemirror_mode": {
    "name": "ipython",
    "version": 3
   },
   "file_extension": ".py",
   "mimetype": "text/x-python",
   "name": "python",
   "nbconvert_exporter": "python",
   "pygments_lexer": "ipython3",
   "version": "3.12.4"
  }
 },
 "nbformat": 4,
 "nbformat_minor": 5
}
