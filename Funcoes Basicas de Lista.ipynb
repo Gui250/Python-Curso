{
 "cells": [
  {
   "cell_type": "markdown",
   "id": "d3785b80",
   "metadata": {},
   "source": [
    "# Algumas Funções Básicas de Lista\n",
    "\n",
    "## Tamanho de Lista\n",
    "tamanho = len(lista)"
   ]
  },
  {
   "cell_type": "code",
   "execution_count": 3,
   "id": "ba30ffa4",
   "metadata": {},
   "outputs": [],
   "source": [
    "produtos = ['apple tv', 'macbook', 'iphone x', 'iphone 11', 'apple watch', 'airpods']"
   ]
  },
  {
   "cell_type": "markdown",
   "id": "7e662e7b",
   "metadata": {},
   "source": [
    "<li>Quantos Produtos temos a venda</li>"
   ]
  },
  {
   "cell_type": "code",
   "execution_count": 4,
   "id": "4e689393",
   "metadata": {},
   "outputs": [
    {
     "name": "stdout",
     "output_type": "stream",
     "text": [
      "Temos 6 produtos\n"
     ]
    }
   ],
   "source": [
    "tamanho = len(produtos)\n",
    "print('Temos {} produtos'.format(tamanho))"
   ]
  },
  {
   "cell_type": "markdown",
   "id": "9bb94a76",
   "metadata": {},
   "source": [
    "# Maior e Menor Valor\n",
    "\n",
    "maior = max(lista)\n",
    "\n",
    "menor = min(lista)"
   ]
  },
  {
   "cell_type": "code",
   "execution_count": 6,
   "id": "7b8a1cc2",
   "metadata": {},
   "outputs": [],
   "source": [
    "vendas = [1000, 1500, 15000, 270, 900, 100, 1200]"
   ]
  },
  {
   "cell_type": "markdown",
   "id": "f3f67253",
   "metadata": {},
   "source": [
    "<ul>\n",
    "    <li>Qual o item mais vendido? </li>\n",
    "    <li>Qual o item menos vendido? </li>\n",
    "</ul>"
   ]
  },
  {
   "cell_type": "code",
   "execution_count": 7,
   "id": "7a030f23",
   "metadata": {},
   "outputs": [
    {
     "name": "stdout",
     "output_type": "stream",
     "text": [
      "O produto mais vendido teve 15000 unidades e o menos vendido teve 100 unidades\n"
     ]
    }
   ],
   "source": [
    "mais_vendido = max(vendas)\n",
    "menos_vendido = min(vendas)\n",
    "\n",
    "print('O produto mais vendido teve {} unidades e o menos vendido teve {} unidades'.format(mais_vendido, menos_vendido))"
   ]
  },
  {
   "cell_type": "code",
   "execution_count": 8,
   "id": "2ee3cde2",
   "metadata": {},
   "outputs": [
    {
     "name": "stdout",
     "output_type": "stream",
     "text": [
      "iphone x\n",
      "airpods\n"
     ]
    }
   ],
   "source": [
    "i = vendas.index(mais_vendido)\n",
    "produto_mais_vendido = produtos[i]\n",
    "\n",
    "print(produto_mais_vendido)\n",
    "\n",
    "i = vendas.index(menos_vendido)\n",
    "produto_menos_vendido = produtos[i]\n",
    "\n",
    "print(produto_menos_vendido)"
   ]
  }
 ],
 "metadata": {
  "kernelspec": {
   "display_name": "Python 3 (ipykernel)",
   "language": "python",
   "name": "python3"
  },
  "language_info": {
   "codemirror_mode": {
    "name": "ipython",
    "version": 3
   },
   "file_extension": ".py",
   "mimetype": "text/x-python",
   "name": "python",
   "nbconvert_exporter": "python",
   "pygments_lexer": "ipython3",
   "version": "3.12.4"
  }
 },
 "nbformat": 4,
 "nbformat_minor": 5
}
